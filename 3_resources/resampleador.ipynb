{
 "cells": [
  {
   "cell_type": "code",
   "execution_count": 8,
   "metadata": {},
   "outputs": [],
   "source": [
    "import pandas as pd\n",
    "from sklearn.model_selection import train_test_split\n",
    "import os"
   ]
  },
  {
   "cell_type": "code",
   "execution_count": 9,
   "metadata": {},
   "outputs": [
    {
     "data": {
      "text/plain": [
       "['pyrim.data',\n",
       " 'auto.data',\n",
       " 'triazines.data',\n",
       " 'abalone.data',\n",
       " 'housing.data',\n",
       " 'wpbc.data',\n",
       " 'diabetes.data',\n",
       " 'stock.data',\n",
       " 'machine.data']"
      ]
     },
     "execution_count": 9,
     "metadata": {},
     "output_type": "execute_result"
    }
   ],
   "source": [
    "#########################\n",
    "# CARGAMOS LOS DATASETS #\n",
    "#########################\n",
    "#n_bins= '10_bins'\n",
    "n_bins= '5_bins'\n",
    "\n",
    "# Cargamos todos los datasets\n",
    "datasets = os.listdir(n_bins+'/')\n",
    "datasets = [x for x in datasets if x.endswith('.data')]\n",
    "\n",
    "data_list=[]\n",
    "for data in datasets:\n",
    "    data_list.append(pd.read_csv(n_bins+'/'+data,sep=\",\",header=None))\n",
    "\n",
    "datasets"
   ]
  },
  {
   "cell_type": "code",
   "execution_count": 10,
   "metadata": {},
   "outputs": [
    {
     "data": {
      "text/plain": [
       "['pyrim',\n",
       " 'auto',\n",
       " 'triazines',\n",
       " 'abalone',\n",
       " 'housing',\n",
       " 'wpbc',\n",
       " 'diabetes',\n",
       " 'stock',\n",
       " 'machine']"
      ]
     },
     "execution_count": 10,
     "metadata": {},
     "output_type": "execute_result"
    }
   ],
   "source": [
    "# Eliminamos el .data del nombre del dataset\n",
    "datasets = [x.replace('.data','') for x in datasets]\n",
    "datasets"
   ]
  },
  {
   "cell_type": "code",
   "execution_count": 11,
   "metadata": {},
   "outputs": [],
   "source": [
    "########################\n",
    "# RESAMPLEO Y GUARDADO #\n",
    "########################\n",
    "i=0\n",
    "for data in data_list:\n",
    "    #creamos directorio si no existe\n",
    "    if not os.path.exists(n_bins+'/'+datasets[i]+'/'):\n",
    "        os.makedirs(n_bins+'/'+datasets[i]+'/')\n",
    "\n",
    "    for resample in range(30):\n",
    "        train, test = train_test_split( data, test_size=0.3, random_state=resample,stratify=data.iloc[:,-1])\n",
    "\n",
    "        #guardamos\n",
    "        train.to_csv(n_bins+'/'+datasets[i]+'/train_'+datasets[i]+'.'+str(resample),header=False,index=False,sep=\" \")\n",
    "        test.to_csv(n_bins+'/'+datasets[i]+'/test_'+datasets[i]+'.'+str(resample),header=False,index=False,sep=\" \")\n",
    "    i+=1\n"
   ]
  },
  {
   "cell_type": "code",
   "execution_count": null,
   "metadata": {},
   "outputs": [],
   "source": []
  }
 ],
 "metadata": {
  "kernelspec": {
   "display_name": "TFM_env",
   "language": "python",
   "name": "python3"
  },
  "language_info": {
   "codemirror_mode": {
    "name": "ipython",
    "version": 3
   },
   "file_extension": ".py",
   "mimetype": "text/x-python",
   "name": "python",
   "nbconvert_exporter": "python",
   "pygments_lexer": "ipython3",
   "version": "3.10.12"
  }
 },
 "nbformat": 4,
 "nbformat_minor": 2
}
